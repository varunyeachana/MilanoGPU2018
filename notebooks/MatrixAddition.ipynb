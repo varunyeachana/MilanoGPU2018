{
 "cells": [
  {
   "cell_type": "markdown",
   "metadata": {},
   "source": [
    "# License\n",
    "\n",
    "    Jupyter notebook for accessing CUDA\n",
    "    Copyright (C) 2018 Andre.Brodtkorb@ifi.uio.no, changed in October by André Brodtkorb\n",
    "\n",
    "    This program is free software: you can redistribute it and/or modify\n",
    "    it under the terms of the GNU General Public License as published by\n",
    "    the Free Software Foundation, either version 3 of the License, or\n",
    "    (at your option) any later version.\n",
    "\n",
    "    This program is distributed in the hope that it will be useful,\n",
    "    but WITHOUT ANY WARRANTY; without even the implied warranty of\n",
    "    MERCHANTABILITY or FITNESS FOR A PARTICULAR PURPOSE.  See the\n",
    "    GNU General Public License for more details.\n",
    "\n",
    "    You should have received a copy of the GNU General Public License\n",
    "    along with this program.  If not, see <http://www.gnu.org/licenses/>."
   ]
  },
  {
   "cell_type": "code",
   "execution_count": 2,
   "metadata": {},
   "outputs": [],
   "source": [
    "#Lets have matplotlib \"inline\"\n",
    "%matplotlib inline\n",
    "\n",
    "#Import packages we need\n",
    "import numpy as np\n",
    "import pycuda.compiler as cuda_compiler\n",
    "from pycuda.gpuarray import GPUArray\n",
    "import pycuda.driver as cuda_driver\n",
    "\n",
    "from matplotlib import pyplot as plt"
   ]
  },
  {
   "cell_type": "code",
   "execution_count": 3,
   "metadata": {},
   "outputs": [],
   "source": [
    "#Initialize CUDA - must be first call to CUDA!\n",
    "cuda_driver.init()"
   ]
  },
  {
   "cell_type": "code",
   "execution_count": 4,
   "metadata": {},
   "outputs": [
    {
     "name": "stdout",
     "output_type": "stream",
     "text": [
      "Using 'Tesla K80'\n",
      " => compute capability: (3, 7)\n",
      " => memory: 10455 / 11441 MB available\n"
     ]
    }
   ],
   "source": [
    "#Create CUDA context\n",
    "cuda_device = cuda_driver.Device(0)\n",
    "print(\"Using '{:s}'\".format(cuda_device.name()))\n",
    "print(\" => compute capability: {:s}\".format(str(cuda_device.compute_capability())))\n",
    "context = cuda_device.make_context()\n",
    "free, total = cuda_driver.mem_get_info()\n",
    "print(\" => memory: {:d} / {:d} MB available\".format(int(free/(1024*1024)), int(total/(1024*1024))))"
   ]
  },
  {
   "cell_type": "code",
   "execution_count": 9,
   "metadata": {},
   "outputs": [],
   "source": [
    "cuda_kernel = \"\"\"\n",
    "__global__ void addVectorKernel(float* c, float* a, float* b) {\n",
    "    unsigned int i = blockIdx.x*blockDim.x + threadIdx.x;\n",
    "    c[i] = a[i] + b[i];\n",
    "}\n",
    "\n",
    "__global__ void addMatrixKernel(float* c, float* a, float* b, int cols) {\n",
    "    unsigned int i = blockIdx.x*blockDim.x + threadIdx.x;\n",
    "    unsigned int j = blockIdx.y*blockDim.y + threadIdx.y;\n",
    "    \n",
    "    //Pseudocode\n",
    "    //c[j][i] = a[j][a] + b[j][i]\n",
    "    unsigned int k = j*cols + i;\n",
    "    \n",
    "    c[k] = a[k] + b[k];\n",
    "}\n",
    "\"\"\"\n",
    "module = cuda_compiler.SourceModule(cuda_kernel)\n",
    "kernel = module.get_function(\"addMatrixKernel\");"
   ]
  },
  {
   "cell_type": "code",
   "execution_count": 13,
   "metadata": {},
   "outputs": [
    {
     "data": {
      "image/png": "[encoded data removed]",
      "text/plain": [
       "<matplotlib.figure.Figure at 0x7ff3e55cfb70>"
      ]
     },
     "metadata": {
      "needs_background": "light"
     },
     "output_type": "display_data"
    }
   ],
   "source": [
    "#Size of our test\n",
    "test_size = (16, 24)\n",
    "\n",
    "#Create test input / output data\n",
    "a = np.random.random(test_size).astype(np.float32)\n",
    "b = np.random.random(test_size).astype(np.float32)\n",
    "c = np.empty_like(a)\n",
    "\n",
    "fig = plt.figure(figsize=(12,8))\n",
    "plt.imshow(a)\n",
    "plt.colorbar()\n",
    "fig.show()"
   ]
  },
  {
   "cell_type": "code",
   "execution_count": 14,
   "metadata": {},
   "outputs": [
    {
     "name": "stdout",
     "output_type": "stream",
     "text": [
      "(16, 24)\n"
     ]
    }
   ],
   "source": [
    "print(a.shape)"
   ]
  },
  {
   "cell_type": "code",
   "execution_count": 15,
   "metadata": {},
   "outputs": [],
   "source": [
    "#Upload data to the device\n",
    "a_g = GPUArray(a.shape, np.float32)\n",
    "b_g = GPUArray(b.shape, np.float32)\n",
    "a_g.set(a)\n",
    "b_g.set(b)"
   ]
  },
  {
   "cell_type": "code",
   "execution_count": 16,
   "metadata": {},
   "outputs": [],
   "source": [
    "#Allocate output data\n",
    "c_g = GPUArray(c.shape, np.float32)"
   ]
  },
  {
   "cell_type": "code",
   "execution_count": 25,
   "metadata": {},
   "outputs": [
    {
     "name": "stdout",
     "output_type": "stream",
     "text": [
      "Domain size is (24, 16)\n",
      "Block size is (8, 4, 1)\n",
      "Grid size is (3, 4, 1)\n"
     ]
    }
   ],
   "source": [
    "#a.shape = [rows, columns] => [y, x]\n",
    "domain_size = (a.shape[1], a.shape[0]) # now domain size is [x, y]\n",
    "block_size = (8, 4, 1) #These need to be [x, y, z]\n",
    "grid_size = (domain_size[0] // block_size[0], domain_size[1] // block_size[1], 1)\n",
    "\n",
    "print(\"Domain size is \" + str(domain_size))\n",
    "print(\"Block size is \" + str(block_size))\n",
    "print(\"Grid size is \" + str(grid_size))"
   ]
  },
  {
   "cell_type": "code",
   "execution_count": 29,
   "metadata": {},
   "outputs": [
    {
     "data": {
      "text/plain": [
       "array([[1.331604  , 0.6833059 , 1.6361595 , 0.7412193 , 1.4187589 ,\n",
       "        1.2796102 , 0.92713153, 1.1710606 , 0.79203516, 1.1588718 ,\n",
       "        1.0635885 , 0.5272921 , 1.7265787 , 0.8416593 , 0.86052036,\n",
       "        1.4796038 , 0.70685595, 1.2922579 , 0.718171  , 1.3839214 ,\n",
       "        1.4730489 , 1.3551692 , 0.2448189 , 1.1604248 ],\n",
       "       [1.5403695 , 0.5332219 , 1.5351458 , 1.0697228 , 0.23758158,\n",
       "        0.835173  , 1.0787506 , 0.37792388, 1.0672488 , 1.19579   ,\n",
       "        0.48136014, 0.6498078 , 1.7323378 , 0.5584149 , 1.6462158 ,\n",
       "        1.2277045 , 1.2710173 , 1.0891317 , 1.173923  , 0.9569369 ,\n",
       "        0.73041314, 1.2151816 , 0.35225147, 0.9852752 ],\n",
       "       [0.9849657 , 1.0954164 , 1.7332226 , 1.2962323 , 1.1550025 ,\n",
       "        1.3515822 , 0.86592674, 0.87610614, 1.5513527 , 1.2079406 ,\n",
       "        1.6343534 , 1.2156935 , 1.007573  , 1.176581  , 1.5586231 ,\n",
       "        1.3250573 , 0.31843144, 1.3348824 , 1.3106498 , 1.2382176 ,\n",
       "        0.3173633 , 0.9997216 , 1.2932045 , 0.6015496 ],\n",
       "       [1.2099931 , 1.142343  , 0.7815242 , 0.97876096, 1.2704113 ,\n",
       "        1.0435803 , 0.14882839, 0.9634764 , 0.77041924, 1.7484229 ,\n",
       "        0.83989435, 0.81586283, 0.90195084, 0.97498876, 0.91527796,\n",
       "        1.4168038 , 0.54014534, 0.70552576, 1.4704032 , 1.6885135 ,\n",
       "        0.9307481 , 0.311371  , 1.6131444 , 1.4010108 ],\n",
       "       [0.52883697, 1.2226299 , 1.5495481 , 1.6866093 , 0.3919881 ,\n",
       "        0.9872174 , 0.9758967 , 1.4324315 , 1.5812829 , 1.3813102 ,\n",
       "        0.69817555, 1.0501463 , 0.84195626, 1.3027716 , 0.9520278 ,\n",
       "        0.714751  , 0.28647274, 1.2583158 , 0.53052735, 0.55903506,\n",
       "        1.9276714 , 1.136666  , 1.1137512 , 0.7154042 ],\n",
       "       [0.5418538 , 1.1263634 , 1.7234862 , 1.4638556 , 1.134659  ,\n",
       "        1.9541193 , 0.48113394, 1.3573753 , 0.7419594 , 1.4146806 ,\n",
       "        0.43936557, 0.33201855, 0.84574074, 0.14611226, 1.6778824 ,\n",
       "        0.68948597, 0.62597924, 0.42427623, 0.4951735 , 0.7227949 ,\n",
       "        0.47076342, 0.9309274 , 1.1309426 , 0.9736324 ],\n",
       "       [1.1016767 , 1.0599016 , 1.4678906 , 1.332289  , 0.80333424,\n",
       "        0.5993724 , 1.469037  , 0.85842836, 0.8787304 , 0.7684014 ,\n",
       "        1.4358156 , 1.1755805 , 0.22836804, 0.92374206, 0.37192363,\n",
       "        0.9591299 , 1.2162548 , 1.1842074 , 1.1242378 , 0.8089615 ,\n",
       "        1.6228442 , 1.4803863 , 0.3908779 , 1.2930924 ],\n",
       "       [1.5074435 , 1.5348939 , 0.62653506, 0.59989053, 1.135874  ,\n",
       "        1.0533608 , 0.9115766 , 1.045094  , 0.73103106, 0.44957748,\n",
       "        1.4724205 , 1.8367321 , 0.4859442 , 1.1960237 , 0.65887475,\n",
       "        1.0019488 , 0.26553532, 1.4807353 , 1.1921852 , 0.70591086,\n",
       "        1.0249603 , 1.5467441 , 0.3630401 , 1.4237354 ],\n",
       "       [0.8264537 , 0.77747273, 1.272383  , 1.3925457 , 1.8280321 ,\n",
       "        0.90450007, 1.2762089 , 0.790227  , 0.37747473, 1.1752946 ,\n",
       "        1.5354701 , 0.88657147, 1.3157408 , 1.1490252 , 1.5638857 ,\n",
       "        1.1509048 , 1.1527188 , 1.1714513 , 0.7819862 , 0.73664224,\n",
       "        0.9434192 , 1.222867  , 0.62682927, 1.5819656 ],\n",
       "       [1.6193749 , 0.86294174, 1.0825241 , 0.7398224 , 0.48677555,\n",
       "        1.2468616 , 0.97957224, 0.6678404 , 0.5502474 , 1.1322505 ,\n",
       "        1.3267959 , 1.5912379 , 1.3003594 , 0.9608356 , 1.8473697 ,\n",
       "        0.9600488 , 1.6457586 , 0.6560899 , 0.14340994, 1.1609769 ,\n",
       "        0.8261478 , 0.32503957, 1.3335187 , 1.2967231 ],\n",
       "       [0.06578512, 0.7089634 , 1.6504041 , 0.5461605 , 1.2798033 ,\n",
       "        1.0239997 , 1.0606834 , 0.0848318 , 1.2487991 , 1.1140056 ,\n",
       "        1.1973877 , 1.2741135 , 0.6002495 , 1.3237501 , 1.3075651 ,\n",
       "        0.7100576 , 0.63070613, 1.4151616 , 1.3304859 , 0.8402663 ,\n",
       "        1.7901063 , 0.02911417, 0.6653584 , 1.0083076 ],\n",
       "       [1.1934117 , 0.69911563, 0.65754044, 1.0493009 , 1.0093293 ,\n",
       "        0.8519603 , 1.466371  , 0.77106845, 0.59979737, 1.0319153 ,\n",
       "        1.2899721 , 1.1506875 , 1.2302842 , 0.84917927, 1.0494249 ,\n",
       "        1.15307   , 0.62838423, 1.4768658 , 0.4619069 , 1.3207594 ,\n",
       "        0.7423539 , 0.37508976, 1.4242516 , 1.1532471 ],\n",
       "       [0.9541234 , 1.1186715 , 1.7931845 , 1.0316889 , 1.2504401 ,\n",
       "        0.9439659 , 0.66701806, 1.4410043 , 1.0124669 , 0.6199204 ,\n",
       "        0.40804452, 0.93809557, 1.2933025 , 0.7593315 , 1.167105  ,\n",
       "        0.6592523 , 0.5141581 , 1.0741699 , 1.192347  , 1.4283428 ,\n",
       "        0.8130394 , 0.97617275, 1.102017  , 0.6470416 ],\n",
       "       [1.191974  , 0.3110353 , 0.79333735, 1.5544597 , 1.0851258 ,\n",
       "        1.303006  , 0.6597192 , 1.0986412 , 0.9217187 , 0.8941255 ,\n",
       "        0.8537669 , 0.7724462 , 1.4538298 , 1.4216008 , 1.3197851 ,\n",
       "        0.43378296, 0.9756912 , 1.4270505 , 1.3412316 , 1.1023518 ,\n",
       "        0.6552944 , 0.4685375 , 1.4641917 , 0.9277009 ],\n",
       "       [0.4559585 , 1.0225685 , 1.2442564 , 1.6752286 , 1.6869185 ,\n",
       "        0.9095069 , 1.2226411 , 0.6153308 , 0.9437048 , 1.3746622 ,\n",
       "        1.2268876 , 0.4918446 , 0.9999112 , 0.62661684, 1.4000329 ,\n",
       "        1.2429758 , 0.73616225, 1.4666274 , 0.42943072, 1.713269  ,\n",
       "        0.615967  , 0.9519759 , 0.5921532 , 0.7736093 ],\n",
       "       [0.7677194 , 1.382483  , 0.7222274 , 1.8858442 , 0.91562474,\n",
       "        0.42801374, 0.0907509 , 1.1215321 , 1.0063664 , 0.6824803 ,\n",
       "        1.6156087 , 1.2599336 , 1.081613  , 1.7363021 , 1.0447319 ,\n",
       "        0.5159998 , 1.6162101 , 0.7984853 , 0.7861936 , 1.6100005 ,\n",
       "        1.193196  , 1.877456  , 1.3619106 , 0.87117046]], dtype=float32)"
      ]
     },
     "execution_count": 29,
     "metadata": {},
     "output_type": "execute_result"
    }
   ],
   "source": [
    "#Execute program on device\n",
    "kernel(c_g, a_g, b_g, np.int32(domain_size[0]), block=block_size, grid=grid_size)\n",
    "\n",
    "#Copy data from device to host\n",
    "c_g.get(c)"
   ]
  },
  {
   "cell_type": "code",
   "execution_count": 30,
   "metadata": {},
   "outputs": [
    {
     "name": "stdout",
     "output_type": "stream",
     "text": [
      "C   =  [[1.331604   0.6833059  1.6361595  0.7412193  1.4187589  1.2796102\n",
      "  0.92713153 1.1710606  0.79203516 1.1588718  1.0635885  0.5272921\n",
      "  1.7265787  0.8416593  0.86052036 1.4796038  0.70685595 1.2922579\n",
      "  0.718171   1.3839214  1.4730489  1.3551692  0.2448189  1.1604248 ]\n",
      " [1.5403695  0.5332219  1.5351458  1.0697228  0.23758158 0.835173\n",
      "  1.0787506  0.37792388 1.0672488  1.19579    0.48136014 0.6498078\n",
      "  1.7323378  0.5584149  1.6462158  1.2277045  1.2710173  1.0891317\n",
      "  1.173923   0.9569369  0.73041314 1.2151816  0.35225147 0.9852752 ]\n",
      " [0.9849657  1.0954164  1.7332226  1.2962323  1.1550025  1.3515822\n",
      "  0.86592674 0.87610614 1.5513527  1.2079406  1.6343534  1.2156935\n",
      "  1.007573   1.176581   1.5586231  1.3250573  0.31843144 1.3348824\n",
      "  1.3106498  1.2382176  0.3173633  0.9997216  1.2932045  0.6015496 ]\n",
      " [1.2099931  1.142343   0.7815242  0.97876096 1.2704113  1.0435803\n",
      "  0.14882839 0.9634764  0.77041924 1.7484229  0.83989435 0.81586283\n",
      "  0.90195084 0.97498876 0.91527796 1.4168038  0.54014534 0.70552576\n",
      "  1.4704032  1.6885135  0.9307481  0.311371   1.6131444  1.4010108 ]\n",
      " [0.52883697 1.2226299  1.5495481  1.6866093  0.3919881  0.9872174\n",
      "  0.9758967  1.4324315  1.5812829  1.3813102  0.69817555 1.0501463\n",
      "  0.84195626 1.3027716  0.9520278  0.714751   0.28647274 1.2583158\n",
      "  0.53052735 0.55903506 1.9276714  1.136666   1.1137512  0.7154042 ]\n",
      " [0.5418538  1.1263634  1.7234862  1.4638556  1.134659   1.9541193\n",
      "  0.48113394 1.3573753  0.7419594  1.4146806  0.43936557 0.33201855\n",
      "  0.84574074 0.14611226 1.6778824  0.68948597 0.62597924 0.42427623\n",
      "  0.4951735  0.7227949  0.47076342 0.9309274  1.1309426  0.9736324 ]\n",
      " [1.1016767  1.0599016  1.4678906  1.332289   0.80333424 0.5993724\n",
      "  1.469037   0.85842836 0.8787304  0.7684014  1.4358156  1.1755805\n",
      "  0.22836804 0.92374206 0.37192363 0.9591299  1.2162548  1.1842074\n",
      "  1.1242378  0.8089615  1.6228442  1.4803863  0.3908779  1.2930924 ]\n",
      " [1.5074435  1.5348939  0.62653506 0.59989053 1.135874   1.0533608\n",
      "  0.9115766  1.045094   0.73103106 0.44957748 1.4724205  1.8367321\n",
      "  0.4859442  1.1960237  0.65887475 1.0019488  0.26553532 1.4807353\n",
      "  1.1921852  0.70591086 1.0249603  1.5467441  0.3630401  1.4237354 ]\n",
      " [0.8264537  0.77747273 1.272383   1.3925457  1.8280321  0.90450007\n",
      "  1.2762089  0.790227   0.37747473 1.1752946  1.5354701  0.88657147\n",
      "  1.3157408  1.1490252  1.5638857  1.1509048  1.1527188  1.1714513\n",
      "  0.7819862  0.73664224 0.9434192  1.222867   0.62682927 1.5819656 ]\n",
      " [1.6193749  0.86294174 1.0825241  0.7398224  0.48677555 1.2468616\n",
      "  0.97957224 0.6678404  0.5502474  1.1322505  1.3267959  1.5912379\n",
      "  1.3003594  0.9608356  1.8473697  0.9600488  1.6457586  0.6560899\n",
      "  0.14340994 1.1609769  0.8261478  0.32503957 1.3335187  1.2967231 ]\n",
      " [0.06578512 0.7089634  1.6504041  0.5461605  1.2798033  1.0239997\n",
      "  1.0606834  0.0848318  1.2487991  1.1140056  1.1973877  1.2741135\n",
      "  0.6002495  1.3237501  1.3075651  0.7100576  0.63070613 1.4151616\n",
      "  1.3304859  0.8402663  1.7901063  0.02911417 0.6653584  1.0083076 ]\n",
      " [1.1934117  0.69911563 0.65754044 1.0493009  1.0093293  0.8519603\n",
      "  1.466371   0.77106845 0.59979737 1.0319153  1.2899721  1.1506875\n",
      "  1.2302842  0.84917927 1.0494249  1.15307    0.62838423 1.4768658\n",
      "  0.4619069  1.3207594  0.7423539  0.37508976 1.4242516  1.1532471 ]\n",
      " [0.9541234  1.1186715  1.7931845  1.0316889  1.2504401  0.9439659\n",
      "  0.66701806 1.4410043  1.0124669  0.6199204  0.40804452 0.93809557\n",
      "  1.2933025  0.7593315  1.167105   0.6592523  0.5141581  1.0741699\n",
      "  1.192347   1.4283428  0.8130394  0.97617275 1.102017   0.6470416 ]\n",
      " [1.191974   0.3110353  0.79333735 1.5544597  1.0851258  1.303006\n",
      "  0.6597192  1.0986412  0.9217187  0.8941255  0.8537669  0.7724462\n",
      "  1.4538298  1.4216008  1.3197851  0.43378296 0.9756912  1.4270505\n",
      "  1.3412316  1.1023518  0.6552944  0.4685375  1.4641917  0.9277009 ]\n",
      " [0.4559585  1.0225685  1.2442564  1.6752286  1.6869185  0.9095069\n",
      "  1.2226411  0.6153308  0.9437048  1.3746622  1.2268876  0.4918446\n",
      "  0.9999112  0.62661684 1.4000329  1.2429758  0.73616225 1.4666274\n",
      "  0.42943072 1.713269   0.615967   0.9519759  0.5921532  0.7736093 ]\n",
      " [0.7677194  1.382483   0.7222274  1.8858442  0.91562474 0.42801374\n",
      "  0.0907509  1.1215321  1.0063664  0.6824803  1.6156087  1.2599336\n",
      "  1.081613   1.7363021  1.0447319  0.5159998  1.6162101  0.7984853\n",
      "  0.7861936  1.6100005  1.193196   1.877456   1.3619106  0.87117046]]\n",
      "Ref =  [[1.331604   0.6833059  1.6361595  0.7412193  1.4187589  1.2796102\n",
      "  0.92713153 1.1710606  0.79203516 1.1588718  1.0635885  0.5272921\n",
      "  1.7265787  0.8416593  0.86052036 1.4796038  0.70685595 1.2922579\n",
      "  0.718171   1.3839214  1.4730489  1.3551692  0.2448189  1.1604248 ]\n",
      " [1.5403695  0.5332219  1.5351458  1.0697228  0.23758158 0.835173\n",
      "  1.0787506  0.37792388 1.0672488  1.19579    0.48136014 0.6498078\n",
      "  1.7323378  0.5584149  1.6462158  1.2277045  1.2710173  1.0891317\n",
      "  1.173923   0.9569369  0.73041314 1.2151816  0.35225147 0.9852752 ]\n",
      " [0.9849657  1.0954164  1.7332226  1.2962323  1.1550025  1.3515822\n",
      "  0.86592674 0.87610614 1.5513527  1.2079406  1.6343534  1.2156935\n",
      "  1.007573   1.176581   1.5586231  1.3250573  0.31843144 1.3348824\n",
      "  1.3106498  1.2382176  0.3173633  0.9997216  1.2932045  0.6015496 ]\n",
      " [1.2099931  1.142343   0.7815242  0.97876096 1.2704113  1.0435803\n",
      "  0.14882839 0.9634764  0.77041924 1.7484229  0.83989435 0.81586283\n",
      "  0.90195084 0.97498876 0.91527796 1.4168038  0.54014534 0.70552576\n",
      "  1.4704032  1.6885135  0.9307481  0.311371   1.6131444  1.4010108 ]\n",
      " [0.52883697 1.2226299  1.5495481  1.6866093  0.3919881  0.9872174\n",
      "  0.9758967  1.4324315  1.5812829  1.3813102  0.69817555 1.0501463\n",
      "  0.84195626 1.3027716  0.9520278  0.714751   0.28647274 1.2583158\n",
      "  0.53052735 0.55903506 1.9276714  1.136666   1.1137512  0.7154042 ]\n",
      " [0.5418538  1.1263634  1.7234862  1.4638556  1.134659   1.9541193\n",
      "  0.48113394 1.3573753  0.7419594  1.4146806  0.43936557 0.33201855\n",
      "  0.84574074 0.14611226 1.6778824  0.68948597 0.62597924 0.42427623\n",
      "  0.4951735  0.7227949  0.47076342 0.9309274  1.1309426  0.9736324 ]\n",
      " [1.1016767  1.0599016  1.4678906  1.332289   0.80333424 0.5993724\n",
      "  1.469037   0.85842836 0.8787304  0.7684014  1.4358156  1.1755805\n",
      "  0.22836804 0.92374206 0.37192363 0.9591299  1.2162548  1.1842074\n",
      "  1.1242378  0.8089615  1.6228442  1.4803863  0.3908779  1.2930924 ]\n",
      " [1.5074435  1.5348939  0.62653506 0.59989053 1.135874   1.0533608\n",
      "  0.9115766  1.045094   0.73103106 0.44957748 1.4724205  1.8367321\n",
      "  0.4859442  1.1960237  0.65887475 1.0019488  0.26553532 1.4807353\n",
      "  1.1921852  0.70591086 1.0249603  1.5467441  0.3630401  1.4237354 ]\n",
      " [0.8264537  0.77747273 1.272383   1.3925457  1.8280321  0.90450007\n",
      "  1.2762089  0.790227   0.37747473 1.1752946  1.5354701  0.88657147\n",
      "  1.3157408  1.1490252  1.5638857  1.1509048  1.1527188  1.1714513\n",
      "  0.7819862  0.73664224 0.9434192  1.222867   0.62682927 1.5819656 ]\n",
      " [1.6193749  0.86294174 1.0825241  0.7398224  0.48677555 1.2468616\n",
      "  0.97957224 0.6678404  0.5502474  1.1322505  1.3267959  1.5912379\n",
      "  1.3003594  0.9608356  1.8473697  0.9600488  1.6457586  0.6560899\n",
      "  0.14340994 1.1609769  0.8261478  0.32503957 1.3335187  1.2967231 ]\n",
      " [0.06578512 0.7089634  1.6504041  0.5461605  1.2798033  1.0239997\n",
      "  1.0606834  0.0848318  1.2487991  1.1140056  1.1973877  1.2741135\n",
      "  0.6002495  1.3237501  1.3075651  0.7100576  0.63070613 1.4151616\n",
      "  1.3304859  0.8402663  1.7901063  0.02911417 0.6653584  1.0083076 ]\n",
      " [1.1934117  0.69911563 0.65754044 1.0493009  1.0093293  0.8519603\n",
      "  1.466371   0.77106845 0.59979737 1.0319153  1.2899721  1.1506875\n",
      "  1.2302842  0.84917927 1.0494249  1.15307    0.62838423 1.4768658\n",
      "  0.4619069  1.3207594  0.7423539  0.37508976 1.4242516  1.1532471 ]\n",
      " [0.9541234  1.1186715  1.7931845  1.0316889  1.2504401  0.9439659\n",
      "  0.66701806 1.4410043  1.0124669  0.6199204  0.40804452 0.93809557\n",
      "  1.2933025  0.7593315  1.167105   0.6592523  0.5141581  1.0741699\n",
      "  1.192347   1.4283428  0.8130394  0.97617275 1.102017   0.6470416 ]\n",
      " [1.191974   0.3110353  0.79333735 1.5544597  1.0851258  1.303006\n",
      "  0.6597192  1.0986412  0.9217187  0.8941255  0.8537669  0.7724462\n",
      "  1.4538298  1.4216008  1.3197851  0.43378296 0.9756912  1.4270505\n",
      "  1.3412316  1.1023518  0.6552944  0.4685375  1.4641917  0.9277009 ]\n",
      " [0.4559585  1.0225685  1.2442564  1.6752286  1.6869185  0.9095069\n",
      "  1.2226411  0.6153308  0.9437048  1.3746622  1.2268876  0.4918446\n",
      "  0.9999112  0.62661684 1.4000329  1.2429758  0.73616225 1.4666274\n",
      "  0.42943072 1.713269   0.615967   0.9519759  0.5921532  0.7736093 ]\n",
      " [0.7677194  1.382483   0.7222274  1.8858442  0.91562474 0.42801374\n",
      "  0.0907509  1.1215321  1.0063664  0.6824803  1.6156087  1.2599336\n",
      "  1.081613   1.7363021  1.0447319  0.5159998  1.6162101  0.7984853\n",
      "  0.7861936  1.6100005  1.193196   1.877456   1.3619106  0.87117046]]\n",
      "Sad =  0.0\n"
     ]
    }
   ],
   "source": [
    "#Compute reference using Numpy\n",
    "c_ref = a + b\n",
    "\n",
    "#Print result\n",
    "print(\"C   = \", c)\n",
    "print(\"Ref = \", c_ref)\n",
    "print(\"Sad = \", np.sum(np.abs(c - c_ref)))"
   ]
  },
  {
   "cell_type": "code",
   "execution_count": 31,
   "metadata": {},
   "outputs": [
    {
     "data": {
      "text/plain": [
       "<matplotlib.image.AxesImage at 0x7ff3e5252240>"
      ]
     },
     "execution_count": 31,
     "metadata": {},
     "output_type": "execute_result"
    },
    {
     "data": {
      "image/png": "[encoded data removed]",
      "text/plain": [
       "<matplotlib.figure.Figure at 0x7ff3e5339748>"
      ]
     },
     "metadata": {
      "needs_background": "light"
     },
     "output_type": "display_data"
    }
   ],
   "source": [
    "fig = plt.figure(figsize=(12,8))\n",
    "plt.subplot(1,2,1)\n",
    "plt.imshow(c)\n",
    "plt.subplot(1,2,2)\n",
    "plt.imshow(c_ref)"
   ]
  },
  {
   "cell_type": "code",
   "execution_count": null,
   "metadata": {},
   "outputs": [],
   "source": []
  }
 ],
 "metadata": {
  "kernelspec": {
   "display_name": "Python 3",
   "language": "python",
   "name": "python3"
  },
  "language_info": {
   "codemirror_mode": {
    "name": "ipython",
    "version": 3
   },
   "file_extension": ".py",
   "mimetype": "text/x-python",
   "name": "python",
   "nbconvert_exporter": "python",
   "pygments_lexer": "ipython3",
   "version": "3.6.6"
  }
 },
 "nbformat": 4,
 "nbformat_minor": 2
}
